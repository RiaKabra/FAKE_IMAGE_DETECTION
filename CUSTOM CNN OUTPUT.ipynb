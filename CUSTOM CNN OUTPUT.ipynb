{
 "cells": [
  {
   "cell_type": "code",
   "execution_count": 1,
   "id": "b0f77a31",
   "metadata": {},
   "outputs": [
    {
     "name": "stderr",
     "output_type": "stream",
     "text": [
      "C:\\Users\\riaka\\anaconda3\\lib\\site-packages\\pandas\\core\\computation\\expressions.py:21: UserWarning: Pandas requires version '2.8.4' or newer of 'numexpr' (version '2.7.3' currently installed).\n",
      "  from pandas.core.computation.check import NUMEXPR_INSTALLED\n",
      "C:\\Users\\riaka\\anaconda3\\lib\\site-packages\\pandas\\core\\arrays\\masked.py:60: UserWarning: Pandas requires version '1.3.6' or newer of 'bottleneck' (version '1.3.2' currently installed).\n",
      "  from pandas.core import (\n"
     ]
    }
   ],
   "source": [
    "import os\n",
    "import cv2\n",
    "import numpy as np\n",
    "import pandas as pd\n",
    "import matplotlib.pyplot as plt\n",
    "from sklearn.model_selection import train_test_split\n",
    "from sklearn.preprocessing import LabelEncoder\n",
    "from sklearn.preprocessing import StandardScaler\n",
    "from keras.layers import Conv2D, MaxPooling2D\n",
    "from tensorflow import keras\n",
    "from tensorflow.keras import layers\n",
    "from tensorflow.keras.preprocessing.image import img_to_array, load_img "
   ]
  },
  {
   "cell_type": "code",
   "execution_count": 2,
   "id": "54a07193",
   "metadata": {},
   "outputs": [],
   "source": [
    "def load_and_preprocess_data(csv_path, image_dir):\n",
    "    data = pd.read_csv(csv_path)\n",
    "    images = []\n",
    "    labels = []\n",
    "\n",
    "    encoder = LabelEncoder()\n",
    "    data['Label'] = encoder.fit_transform(data['Label'])\n",
    "\n",
    "    for index, row in data.iterrows():\n",
    "        image_path = os.path.join(image_dir, row['Image Path'])\n",
    "        image = load_img(image_path, target_size=(224, 224))  \n",
    "        image = img_to_array(image)\n",
    "        image = image / 255.0  \n",
    "        images.append(image)\n",
    "        labels.append(row['Label'])\n",
    "\n",
    "    return np.array(images), np.array(labels)\n"
   ]
  },
  {
   "cell_type": "code",
   "execution_count": 3,
   "id": "f41aba8a",
   "metadata": {},
   "outputs": [],
   "source": [
    "from keras.models import Sequential\n",
    "from keras.layers import Dense, Conv2D, Flatten\n",
    "\n",
    "def build_model(input_shape):\n",
    "    model = Sequential()\n",
    "    model.add(Conv2D(64,kernel_size=3,activation = 'relu',input_shape=input_shape))\n",
    "    model.add(MaxPooling2D(4,4))\n",
    "    model.add(Conv2D(64,kernel_size=3,activation = 'relu'))\n",
    "    model.add(MaxPooling2D(4,4))\n",
    "    model.add(Conv2D(64,kernel_size=3,activation = 'relu'))\n",
    "    model.add(MaxPooling2D(4,4))\n",
    "    model.add(Flatten())\n",
    "    model.add(Dense(1,activation='sigmoid'))\n",
    "    model.compile(optimizer='adam', loss='binary_crossentropy', metrics=['accuracy'])\n",
    "    return model"
   ]
  },
  {
   "cell_type": "code",
   "execution_count": 4,
   "id": "91c83792",
   "metadata": {},
   "outputs": [],
   "source": [
    "def train_model(X_train, y_train, epochs=10, batch_size=32):\n",
    "    model = build_model(X_train.shape[1:])\n",
    "    model.fit(X_train, y_train, epochs=epochs, batch_size=batch_size)\n",
    "    return model"
   ]
  },
  {
   "cell_type": "code",
   "execution_count": 5,
   "id": "246c431e",
   "metadata": {},
   "outputs": [],
   "source": [
    "def evaluate_model(model, X_test, y_test):\n",
    "    loss, accuracy = model.evaluate(X_test, y_test)\n",
    "    print(\"Test Loss \",loss)\n",
    "    print(\"Test Accuracy \",accuracy)"
   ]
  },
  {
   "cell_type": "code",
   "execution_count": 6,
   "id": "cd507a20",
   "metadata": {},
   "outputs": [],
   "source": [
    "def predict_user_image(model):\n",
    "    csv_path = r\"D:\\dataset_images\\newnewnew.csv\"\n",
    "    image_dir = r'D:\\dataset_images'\n",
    "\n",
    "    data = pd.read_csv(csv_path)\n",
    "    images = []\n",
    "\n",
    "    for index, row in data.iterrows():\n",
    "        image_path = os.path.join(image_dir, row['Image Path'])\n",
    "        image = load_img(image_path, target_size=(224, 224))\n",
    "        image = img_to_array(image)\n",
    "        image = image / 255.0\n",
    "        images.append(image)\n",
    "\n",
    "    predictions = model.predict(np.array(images))\n",
    "\n",
    "    for i, prediction in enumerate(predictions):\n",
    "        if prediction >= 0.5:\n",
    "            print(f\"Image {i+1}: Real\")\n",
    "        else:\n",
    "            print(f\"Image {i+1}: Fake\")\n"
   ]
  },
  {
   "cell_type": "code",
   "execution_count": 10,
   "id": "9769a5aa",
   "metadata": {},
   "outputs": [
    {
     "name": "stdout",
     "output_type": "stream",
     "text": [
      "Epoch 1/15\n",
      "25/25 [==============================] - 45s 1s/step - loss: 0.0678 - accuracy: 0.9731 - val_loss: 0.1209 - val_accuracy: 0.9450\n",
      "Epoch 2/15\n",
      "25/25 [==============================] - 33s 1s/step - loss: 0.0603 - accuracy: 0.9769 - val_loss: 0.1011 - val_accuracy: 0.9525\n",
      "Epoch 3/15\n",
      "25/25 [==============================] - 32s 1s/step - loss: 0.0544 - accuracy: 0.9812 - val_loss: 0.0938 - val_accuracy: 0.9650\n",
      "Epoch 4/15\n",
      "25/25 [==============================] - 32s 1s/step - loss: 0.0509 - accuracy: 0.9819 - val_loss: 0.0948 - val_accuracy: 0.9625\n",
      "Epoch 5/15\n",
      "25/25 [==============================] - 33s 1s/step - loss: 0.0499 - accuracy: 0.9800 - val_loss: 0.0848 - val_accuracy: 0.9675\n",
      "Epoch 6/15\n",
      "25/25 [==============================] - 32s 1s/step - loss: 0.0502 - accuracy: 0.9806 - val_loss: 0.0840 - val_accuracy: 0.9675\n",
      "Epoch 7/15\n",
      "25/25 [==============================] - 32s 1s/step - loss: 0.0435 - accuracy: 0.9856 - val_loss: 0.0718 - val_accuracy: 0.9700\n",
      "Epoch 8/15\n",
      "25/25 [==============================] - 33s 1s/step - loss: 0.0411 - accuracy: 0.9875 - val_loss: 0.0671 - val_accuracy: 0.9725\n",
      "Epoch 9/15\n",
      "25/25 [==============================] - 32s 1s/step - loss: 0.0452 - accuracy: 0.9825 - val_loss: 0.0751 - val_accuracy: 0.9725\n",
      "Epoch 10/15\n",
      "25/25 [==============================] - 34s 1s/step - loss: 0.0414 - accuracy: 0.9837 - val_loss: 0.0562 - val_accuracy: 0.9750\n",
      "Epoch 11/15\n",
      "25/25 [==============================] - 33s 1s/step - loss: 0.0334 - accuracy: 0.9900 - val_loss: 0.0609 - val_accuracy: 0.9775\n",
      "Epoch 12/15\n",
      "25/25 [==============================] - 34s 1s/step - loss: 0.0321 - accuracy: 0.9894 - val_loss: 0.0459 - val_accuracy: 0.9825\n",
      "Epoch 13/15\n",
      "25/25 [==============================] - 34s 1s/step - loss: 0.0291 - accuracy: 0.9925 - val_loss: 0.0375 - val_accuracy: 0.9900\n",
      "Epoch 14/15\n",
      "25/25 [==============================] - 34s 1s/step - loss: 0.0295 - accuracy: 0.9900 - val_loss: 0.0413 - val_accuracy: 0.9875\n",
      "Epoch 15/15\n",
      "25/25 [==============================] - 32s 1s/step - loss: 0.0294 - accuracy: 0.9875 - val_loss: 0.0349 - val_accuracy: 0.9900\n",
      "13/13 [==============================] - 2s 143ms/step - loss: 0.0349 - accuracy: 0.9900\n",
      "Test Loss  0.03494207561016083\n",
      "Test Accuracy  0.9900000095367432\n"
     ]
    }
   ],
   "source": [
    "if __name__ == \"__main__\":\n",
    "    csv_path = r\"D:\\dataset_images\\dataset_images_2000_cat.csv\"\n",
    "    image_dir = r'D:\\dataset_images'\n",
    "\n",
    "    images, labels = load_and_preprocess_data(csv_path, image_dir)\n",
    "\n",
    "    X_train, X_test, y_train, y_test = train_test_split(images, labels, test_size=0.2, random_state=42)\n",
    "    history = model.fit(X_train, y_train, validation_data=(X_test, y_test), epochs=15, batch_size=64)\n",
    "    \n",
    "    evaluate_model(model, X_test, y_test)"
   ]
  },
  {
   "cell_type": "code",
   "execution_count": 11,
   "id": "58cfcaf0",
   "metadata": {},
   "outputs": [
    {
     "data": {
      "image/png": "[encoded data removed]",
      "text/plain": [
       "<Figure size 432x288 with 1 Axes>"
      ]
     },
     "metadata": {
      "needs_background": "light"
     },
     "output_type": "display_data"
    }
   ],
   "source": [
    "import matplotlib.pyplot as plt\n",
    "\n",
    "train_acc = history.history['accuracy']\n",
    "val_acc = history.history['val_accuracy']\n",
    "\n",
    "epochs = range(1, len(train_acc) + 1)\n",
    "\n",
    "plt.plot(epochs, train_acc, 'b', label='Training Acc')\n",
    "plt.plot(epochs, val_acc, 'r', label='Validation Acc')\n",
    "plt.title('Training and Validation Accuracy')\n",
    "plt.xlabel('Epochs')\n",
    "plt.ylabel('Accuracy')\n",
    "plt.legend()\n",
    "plt.show()"
   ]
  },
  {
   "cell_type": "code",
   "execution_count": 12,
   "id": "f526ef92",
   "metadata": {},
   "outputs": [
    {
     "data": {
      "image/png": "[encoded data removed]",
      "text/plain": [
       "<Figure size 432x288 with 1 Axes>"
      ]
     },
     "metadata": {
      "needs_background": "light"
     },
     "output_type": "display_data"
    }
   ],
   "source": [
    "import matplotlib.pyplot as plt\n",
    "\n",
    "train_acc = history.history['loss']\n",
    "val_acc = history.history['val_loss']\n",
    "\n",
    "epochs = range(1, len(train_acc) + 1)\n",
    "\n",
    "plt.plot(epochs, train_acc, 'b', label='Training Loss')\n",
    "plt.plot(epochs, val_acc, 'r', label='Validation Loss')\n",
    "plt.title('Training and Validation Loss')\n",
    "plt.xlabel('Epochs')\n",
    "plt.ylabel('Loss')\n",
    "plt.legend()\n",
    "plt.show()"
   ]
  },
  {
   "cell_type": "code",
   "execution_count": 13,
   "id": "595df799",
   "metadata": {},
   "outputs": [
    {
     "name": "stdout",
     "output_type": "stream",
     "text": [
      "2/2 [==============================] - 0s 44ms/step\n",
      "Image 1: Real\n",
      "Image 2: Real\n",
      "Image 3: Real\n",
      "Image 4: Real\n",
      "Image 5: Real\n",
      "Image 6: Real\n",
      "Image 7: Real\n",
      "Image 8: Real\n",
      "Image 9: Real\n",
      "Image 10: Real\n",
      "Image 11: Real\n",
      "Image 12: Real\n",
      "Image 13: Real\n",
      "Image 14: Real\n",
      "Image 15: Real\n",
      "Image 16: Real\n",
      "Image 17: Real\n",
      "Image 18: Real\n",
      "Image 19: Real\n",
      "Image 20: Fake\n",
      "Image 21: Fake\n",
      "Image 22: Fake\n",
      "Image 23: Fake\n",
      "Image 24: Fake\n",
      "Image 25: Fake\n",
      "Image 26: Fake\n",
      "Image 27: Fake\n",
      "Image 28: Fake\n",
      "Image 29: Fake\n",
      "Image 30: Fake\n",
      "Image 31: Fake\n",
      "Image 32: Fake\n",
      "Image 33: Fake\n",
      "Image 34: Fake\n",
      "Image 35: Fake\n",
      "Image 36: Fake\n",
      "Image 37: Fake\n",
      "Image 38: Fake\n",
      "Image 39: Fake\n",
      "Image 40: Fake\n"
     ]
    }
   ],
   "source": [
    "predict_user_image(model)"
   ]
  },
  {
   "cell_type": "code",
   "execution_count": null,
   "id": "64b01967",
   "metadata": {},
   "outputs": [],
   "source": []
  }
 ],
 "metadata": {
  "kernelspec": {
   "display_name": "Python 3 (ipykernel)",
   "language": "python",
   "name": "python3"
  },
  "language_info": {
   "codemirror_mode": {
    "name": "ipython",
    "version": 3
   },
   "file_extension": ".py",
   "mimetype": "text/x-python",
   "name": "python",
   "nbconvert_exporter": "python",
   "pygments_lexer": "ipython3",
   "version": "3.9.7"
  }
 },
 "nbformat": 4,
 "nbformat_minor": 5
}
